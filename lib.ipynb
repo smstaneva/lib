{
 "cells": [
  {
   "cell_type": "markdown",
   "id": "734485e9-6d15-431b-81c9-5e27fa5da3eb",
   "metadata": {},
   "source": [
    "When we use Git on a new computer for the first time, configure on a command line:/br\n",
    "-our name and email address/br\n",
    "-to colorize our output"
   ]
  },
  {
   "cell_type": "markdown",
   "id": "31cdbb34-3cee-457b-b6e8-bcb6b7a44392",
   "metadata": {},
   "source": [
    "git config --global user.name \"Svetlana Staneva\"\n",
    "git config -- global user.email \"smstaneva@gmail.com\"\n",
    "git config --global color.ui \"auto\""
   ]
  },
  {
   "cell_type": "code",
   "execution_count": null,
   "id": "3564b018-a17b-4266-9683-453edd003d31",
   "metadata": {},
   "outputs": [],
   "source": [
    "Verify global Git configuration:"
   ]
  },
  {
   "cell_type": "markdown",
   "id": "fe128abd-c7d8-4024-9720-acc2aae80875",
   "metadata": {},
   "source": [
    "git config --list"
   ]
  }
 ],
 "metadata": {
  "kernelspec": {
   "display_name": "Python 3 (ipykernel)",
   "language": "python",
   "name": "python3"
  },
  "language_info": {
   "codemirror_mode": {
    "name": "ipython",
    "version": 3
   },
   "file_extension": ".py",
   "mimetype": "text/x-python",
   "name": "python",
   "nbconvert_exporter": "python",
   "pygments_lexer": "ipython3",
   "version": "3.10.16"
  }
 },
 "nbformat": 4,
 "nbformat_minor": 5
}
