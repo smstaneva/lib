{
 "cells": [
  {
   "cell_type": "markdown",
   "metadata": {},
   "source": [
    "# <font style=\"color:ebebeb;\">Configure Git</font>"
   ]
  },
  {
   "cell_type": "markdown",
   "metadata": {},
   "source": [
    "When we use Git on a new computer for the first time, configure in terminal (marked with !). This creates a hidden .gitconfig file in the home directory with this data."
   ]
  },
  {
   "cell_type": "code",
   "execution_count": null,
   "metadata": {},
   "outputs": [],
   "source": [
    "!git config --global user.name \"Svetlana Staneva\"            #configure our name  \n",
    "!git config --global user.email \"smstaneva@gmail.com\"        #configure our email address  \n",
    "!git config --global color.ui \"auto\"                         #colorize our output  "
   ]
  },
  {
   "cell_type": "code",
   "execution_count": 1,
   "metadata": {},
   "outputs": [
    {
     "name": "stdout",
     "output_type": "stream",
     "text": [
      "user.email=smstaneva@gmail.com\r\n",
      "user.name=Svetlana Staneva\r\n",
      "color.ui=auto\r\n",
      "core.repositoryformatversion=0\r\n",
      "core.filemode=true\r\n",
      "core.bare=false\r\n",
      "core.logallrefupdates=true\r\n",
      "remote.origin.url=https://github.com/smstaneva/lib.git\r\n",
      "remote.origin.fetch=+refs/heads/*:refs/remotes/origin/*\r\n",
      "branch.master.remote=origin\r\n",
      "branch.master.merge=refs/heads/master\r\n"
     ]
    }
   ],
   "source": [
    "!git config --list                                           #Verify global Git configuration"
   ]
  },
  {
   "cell_type": "code",
   "execution_count": 5,
   "metadata": {},
   "outputs": [
    {
     "name": "stdout",
     "output_type": "stream",
     "text": [
      "/home/smsta\n"
     ]
    }
   ],
   "source": [
    "cd ~"
   ]
  },
  {
   "cell_type": "markdown",
   "metadata": {},
   "source": [
    "Show all files, incl. hidden:"
   ]
  },
  {
   "cell_type": "code",
   "execution_count": 6,
   "metadata": {},
   "outputs": [
    {
     "name": "stdout",
     "output_type": "stream",
     "text": [
      ".\t\t .gnupg\r\n",
      "..\t\t google-chrome-stable_current_amd64.deb\r\n",
      ".anaconda\t .gphoto\r\n",
      "anaconda3\t .ipython\r\n",
      ".bash_history\t .jupyter\r\n",
      ".bash_logout\t .local\r\n",
      ".bashrc\t\t .mozilla\r\n",
      ".cache\t\t Music\r\n",
      ".conda\t\t Pictures\r\n",
      ".condarc\t .pki\r\n",
      ".config\t\t .profile\r\n",
      "Desktop\t\t Public\r\n",
      "Documents\t .shutter\r\n",
      "Downloads\t snap\r\n",
      ".fontconfig\t .ssh\r\n",
      ".gitconfig\t .sudo_as_admin_successful\r\n",
      ".gitconfig.save  Templates\r\n",
      ".gnome\t\t Videos\r\n"
     ]
    }
   ],
   "source": [
    "!ls -a"
   ]
  },
  {
   "cell_type": "markdown",
   "metadata": {},
   "source": [
    "View the .gitconfig file: \n",
    "    -in the home directory hold Ctrl + H to view hidden files and double click on .gitconfig"
   ]
  },
  {
   "cell_type": "code",
   "execution_count": 2,
   "metadata": {},
   "outputs": [
    {
     "name": "stdout",
     "output_type": "stream",
     "text": [
      "\u001b[1B\u001b[32m\u001b[1m[color]\u001b[6;9H\u001b[m\u001b[mui = autoail = smstaneva@gmail.com\u001b[4;9Hname = Svetlana StanevaSpell  \u001b[7m^_\u001b[m Go To Line\u001b[7m[ Reading... ]\u001b[m\u001b[22;33H\u001b[7m[ Read 5 lines ]\u001b[m\u001b[H\u001b[7m  GNU nano 4.8                 /home/smsta/.gitconfig                           \u001b[1;79H\u001b[m\u001b[22;16H\u001b[7m[ line 1/6 (16%), col 1/7 (14%), char 0/80 (0%) ]\u001b[m\u001b[22;16H             \u001b[7m[ Justified paragraph ]\u001b[m\u001b[K\u001b[1;71H\u001b[7mModified\u001b[m\u001b[2;21r\u001b[2;1H\u001b[2M\u001b[1;24r\u001b[2;1H[user] email = smstaneva@gmail.com name = Svetlana Staneva"
     ]
    }
   ],
   "source": [
    "!git config --global --edit"
   ]
  },
  {
   "cell_type": "code",
   "execution_count": null,
   "metadata": {},
   "outputs": [],
   "source": [
    "Delete directory of a cloned git repository on a local computer:"
   ]
  },
  {
   "cell_type": "code",
   "execution_count": null,
   "metadata": {},
   "outputs": [],
   "source": [
    "rm -r \"folder name\""
   ]
  },
  {
   "cell_type": "code",
   "execution_count": null,
   "metadata": {},
   "outputs": [],
   "source": [
    "git clone https://github.com/smstaneva/lib.git"
   ]
  },
  {
   "cell_type": "markdown",
   "metadata": {},
   "source": [
    "Change Jupyter Notebook interface (install system-wide):"
   ]
  },
  {
   "cell_type": "code",
   "execution_count": null,
   "metadata": {},
   "outputs": [],
   "source": [
    "pip install notebook==6.4.4"
   ]
  },
  {
   "cell_type": "markdown",
   "metadata": {},
   "source": [
    "conda env list"
   ]
  },
  {
   "cell_type": "code",
   "execution_count": null,
   "metadata": {},
   "outputs": [],
   "source": [
    "Create an environment"
   ]
  },
  {
   "cell_type": "markdown",
   "metadata": {},
   "source": [
    "conda create -n libenv"
   ]
  },
  {
   "cell_type": "code",
   "execution_count": null,
   "metadata": {},
   "outputs": [],
   "source": [
    "conda activate libenv\n",
    "conda env list"
   ]
  }
 ],
 "metadata": {
  "celltoolbar": "Tags",
  "kernelspec": {
   "display_name": "Python 3",
   "language": "python",
   "name": "python3"
  },
  "language_info": {
   "codemirror_mode": {
    "name": "ipython",
    "version": 3
   },
   "file_extension": ".py",
   "mimetype": "text/x-python",
   "name": "python",
   "nbconvert_exporter": "python",
   "pygments_lexer": "ipython3",
   "version": "3.7.6"
  }
 },
 "nbformat": 4,
 "nbformat_minor": 5
}
